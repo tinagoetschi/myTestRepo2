{
 "cells": [
  {
   "cell_type": "markdown",
   "metadata": {},
   "source": [
    "## write a program that allows a user to add to a todo list"
   ]
  },
  {
   "cell_type": "code",
   "execution_count": 2,
   "metadata": {},
   "outputs": [],
   "source": [
    "todoList = [] # start with an empty list"
   ]
  },
  {
   "cell_type": "code",
   "execution_count": 4,
   "metadata": {},
   "outputs": [
    {
     "name": "stdout",
     "output_type": "stream",
     "text": [
      "[]\n"
     ]
    }
   ],
   "source": [
    "print(todoList)"
   ]
  },
  {
   "cell_type": "code",
   "execution_count": null,
   "metadata": {},
   "outputs": [],
   "source": [
    "# ask the user over and over again for a task, add it to the list, print the list out\n",
    "#clear the list\n",
    "todoList = []\n",
    "#intitalise the loop variable\n",
    "task = \"\" # this is am empty string, its NOT an x, so the loop will execute at least onece\n",
    "while task != \"x\" :\n",
    "    task = input(\"please enter a task, press (x) to exit\").lower()\n",
    "    if task != \"x\":\n",
    "        todoList.append(task) # the append method adds a new task to the END of the list\n",
    "    print(todoList)\n",
    "\n",
    "print(\"you are done, here is your final list \",todoList)"
   ]
  },
  {
   "cell_type": "code",
   "execution_count": null,
   "metadata": {},
   "outputs": [],
   "source": [
    "e"
   ]
  }
 ],
 "metadata": {
  "kernelspec": {
   "display_name": "Python 3",
   "language": "python",
   "name": "python3"
  },
  "language_info": {
   "codemirror_mode": {
    "name": "ipython",
    "version": 3
   },
   "file_extension": ".py",
   "mimetype": "text/x-python",
   "name": "python",
   "nbconvert_exporter": "python",
   "pygments_lexer": "ipython3",
   "version": "3.5.2"
  }
 },
 "nbformat": 4,
 "nbformat_minor": 2
}

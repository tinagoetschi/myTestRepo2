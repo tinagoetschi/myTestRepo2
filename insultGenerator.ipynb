{
 "cells": [
  {
   "cell_type": "markdown",
   "metadata": {},
   "source": [
    "## An insult generator using Lists and loops\n",
    "\n",
    "write an INSULT generator program\n",
    "\n",
    "adj adj noun\n",
    "\n",
    "stupid smelly frog\n",
    "\n",
    "bald ugly cow\n",
    "\n",
    "whiney purple refridgerator"
   ]
  },
  {
   "cell_type": "code",
   "execution_count": 17,
   "metadata": {},
   "outputs": [],
   "source": [
    "adj1list = [\"smelly\",\"ordorous\",\"whiney\",\"slimey\",\"hairy\", \"beautiful\"]\n",
    "adj2list = [\"bald\",\"oily\",\"boring\",\"lame\",\"purple\"]\n",
    "nounList = [\"frog\", \"snake\", \"spider\", \"buffalo\", \"lemur\", \"refridgerator\"]"
   ]
  },
  {
   "cell_type": "code",
   "execution_count": 21,
   "metadata": {},
   "outputs": [
    {
     "name": "stdout",
     "output_type": "stream",
     "text": [
      "0 : you are a  hairy lame snake\n",
      "1 : you are a  ordorous boring snake\n",
      "2 : you are a  beautiful bald snake\n",
      "3 : you are a  beautiful boring lemur\n",
      "4 : you are a  ordorous boring frog\n",
      "5 : you are a  beautiful boring snake\n",
      "6 : you are a  ordorous lame refridgerator\n",
      "7 : you are a  ordorous purple snake\n",
      "8 : you are a  beautiful purple lemur\n",
      "9 : you are a  hairy lame snake\n",
      ": you are a  beautiful lame buffalo\n"
     ]
    }
   ],
   "source": [
    "import random  # this is the module that does all random calculations and stuff in python\n",
    "for i in range(10):\n",
    "    #choose one word randomly from the lists\n",
    "    word1=random.choice(adj1list)\n",
    "    word2=random.choice(adj2list)\n",
    "    word3=random.choice(nounList)\n",
    "    print(i, \": you are a \", word1, word2, word3)\n",
    "    \n",
    "# a different method - choose a random integer\n",
    "x = random.randint(0, len(adj1list)-1)\n",
    "y =  random.randint(0, len(adj2list)-1)\n",
    "z =  random.randint(0, len(nounList)-1)\n",
    "print(\": you are a \", adj1list[x], adj2list[y], nounList[z])"
   ]
  }
 ],
 "metadata": {
  "kernelspec": {
   "display_name": "Python 3",
   "language": "python",
   "name": "python3"
  },
  "language_info": {
   "codemirror_mode": {
    "name": "ipython",
    "version": 3
   },
   "file_extension": ".py",
   "mimetype": "text/x-python",
   "name": "python",
   "nbconvert_exporter": "python",
   "pygments_lexer": "ipython3",
   "version": "3.5.2"
  }
 },
 "nbformat": 4,
 "nbformat_minor": 2
}
